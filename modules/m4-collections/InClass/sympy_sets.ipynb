{
 "cells": [
  {
   "cell_type": "markdown",
   "metadata": {},
   "source": [
    "# Sets In-class\n",
    "## What is the cardinality of the following sets?\n",
    "\n",
    "* $ S_1 = \\{i\\%7 : \\forall i \\in \\mathbb{Z}\\}$\n",
    "* $ S_2 = \\{x | x \\in \\mathbb{R} \\text{ and } 0 \\le x \\lt 1\\}$\n",
    "* $S_3$ equals the set of square roots of 1\n",
    "* $D$ where\n",
    "$$\n",
    "A = \\{1,2,3,4\\}\\\\\n",
    "B = \\{4, 5, 6\\}\\\\\n",
    "C = \\{1, 3, 5, 7, 9, 11\\}\\\\\n",
    "D = (A\\cup B)\\cap C\n",
    "$$"
   ]
  },
  {
   "cell_type": "code",
   "execution_count": null,
   "metadata": {},
   "outputs": [],
   "source": [
    "from sympy import FiniteSet, S, Symbol\n",
    "from nose.tools import assert_true, assert_equal, assert_false\n",
    "import numpy as np"
   ]
  },
  {
   "cell_type": "code",
   "execution_count": null,
   "metadata": {},
   "outputs": [],
   "source": [
    "import sympy.sets.fancysets"
   ]
  },
  {
   "cell_type": "code",
   "execution_count": null,
   "metadata": {},
   "outputs": [],
   "source": [
    "S.Integers.is_subset(S.Integers)"
   ]
  },
  {
   "cell_type": "markdown",
   "metadata": {},
   "source": [
    "#### `S` defines the special  sets\n",
    "* `UniversalSet` ($U$)\n",
    "* `EmptySet` ($\\varnothing$)\n",
    "* `Integers` ($\\mathbb{Z}$)\n",
    "* `Reals` ($\\mathbb{R}$)\n",
    "\n",
    "Each of these sets has the methods:\n",
    "\n",
    "* `is_subset`\n",
    "* `is_proper_subset`\n",
    "#### Answer the following qeustions\n",
    "\n",
    "* $\\varnothing \\subseteq U$?\n",
    "* $\\mathbb{R} \\subseteq \\mathbb{Z}$?\n",
    "* $\\mathbb{Z} \\subset \\mathbb{Z}$?"
   ]
  },
  {
   "cell_type": "code",
   "execution_count": null,
   "metadata": {},
   "outputs": [],
   "source": [
    "### BEGIN SOLUTION\n",
    "assert_true(S.EmptySet.is_subset(S.UniversalSet))\n",
    "assert_false(S.Reals.is_subset(S.Integers))\n",
    "assert_false(S.Integers.is_proper_subset(S.Integers))\n",
    "### END SOLUTION"
   ]
  },
  {
   "cell_type": "markdown",
   "metadata": {},
   "source": [
    "## Cartesian Product\n",
    ">“Finding the Cartesian product of sets is useful for finding all possible combinations of the set members” (Amit Saha. *Doing Math with Python*)"
   ]
  },
  {
   "cell_type": "markdown",
   "metadata": {},
   "source": [
    "### Sympy"
   ]
  },
  {
   "cell_type": "code",
   "execution_count": null,
   "metadata": {},
   "outputs": [],
   "source": [
    "S1 = FiniteSet(1,2,3,4)\n",
    "S2 = FiniteSet(4,5,6,7,8)"
   ]
  },
  {
   "cell_type": "markdown",
   "metadata": {},
   "source": [
    "## Exercise\n",
    "\n",
    "What is the cardinality of the Cartesian product of $S1$ and $S2$ ($S1\\times S2$)?"
   ]
  },
  {
   "cell_type": "code",
   "execution_count": null,
   "metadata": {},
   "outputs": [],
   "source": [
    "doctors = FiniteSet(Symbol(\"Dr. No\"), \n",
    "                    Symbol(\"Dr. Yes\"), \n",
    "                    Symbol(\"Dr. Maybe\"))\n",
    "diseases = FiniteSet(Symbol(\"renal cell carcinoma\"), \n",
    "                     Symbol(\"hypertension\"), \n",
    "                     Symbol(\"hcc\"), Symbol(\"depression\"))\n",
    "set(doctors*diseases)"
   ]
  },
  {
   "cell_type": "markdown",
   "metadata": {},
   "source": [
    "## Testing Membership\n",
    "\n"
   ]
  },
  {
   "cell_type": "code",
   "execution_count": null,
   "metadata": {},
   "outputs": [],
   "source": [
    "import numpy.random as ra\n",
    "import random"
   ]
  },
  {
   "cell_type": "code",
   "execution_count": null,
   "metadata": {},
   "outputs": [],
   "source": [
    "data = ra.randint(low=0, high=5000000000, size=1000000)"
   ]
  },
  {
   "cell_type": "code",
   "execution_count": null,
   "metadata": {},
   "outputs": [],
   "source": [
    "d_list = list(data)\n",
    "d_tuple = tuple(data)\n",
    "d_set = set(data)\n",
    "d_fset = frozenset(data)"
   ]
  },
  {
   "cell_type": "code",
   "execution_count": null,
   "metadata": {},
   "outputs": [],
   "source": [
    "len(d_set) / len(d_tuple)"
   ]
  },
  {
   "cell_type": "markdown",
   "metadata": {},
   "source": [
    "#### use the %timeit magic to time how long it takes to execute the statement"
   ]
  },
  {
   "cell_type": "code",
   "execution_count": null,
   "metadata": {},
   "outputs": [],
   "source": [
    "listin = %timeit -o 127 in d_list"
   ]
  },
  {
   "cell_type": "code",
   "execution_count": null,
   "metadata": {},
   "outputs": [],
   "source": [
    "tuplein = %timeit -o 127 in d_tuple"
   ]
  },
  {
   "cell_type": "code",
   "execution_count": null,
   "metadata": {},
   "outputs": [],
   "source": [
    "setin = %timeit -o 127 in d_set"
   ]
  },
  {
   "cell_type": "code",
   "execution_count": null,
   "metadata": {},
   "outputs": [],
   "source": [
    "fsetin = %timeit -o 127 in d_fset"
   ]
  },
  {
   "cell_type": "markdown",
   "metadata": {},
   "source": [
    "## What is the fastest way to test membership/in?\n",
    "\n",
    "\n",
    "\n",
    "## How could we check whether this was a fluke due to our choice of `127`?"
   ]
  },
  {
   "cell_type": "code",
   "execution_count": null,
   "metadata": {},
   "outputs": [],
   "source": [
    "listin = []\n",
    "for i in range(20):\n",
    "    num = random.randrange(5000000000)\n",
    "    rslt = %timeit -o num in d_list\n",
    "    listin.append(rslt.average)\n",
    "    "
   ]
  },
  {
   "cell_type": "code",
   "execution_count": null,
   "metadata": {},
   "outputs": [],
   "source": [
    "print(\"%e\"%np.mean(listin))"
   ]
  },
  {
   "cell_type": "code",
   "execution_count": null,
   "metadata": {},
   "outputs": [],
   "source": [
    "fsetin = []\n",
    "for i in range(20):\n",
    "    num = random.randrange(5000000000)\n",
    "    rslt = %timeit -o num in d_fset\n",
    "    fsetin.append(rslt.average)"
   ]
  },
  {
   "cell_type": "code",
   "execution_count": null,
   "metadata": {},
   "outputs": [],
   "source": [
    "print(\"%e\"%np.mean(fsetin))"
   ]
  },
  {
   "cell_type": "code",
   "execution_count": null,
   "metadata": {},
   "outputs": [],
   "source": [
    "setin = []\n",
    "for i in range(20):\n",
    "    num = random.randrange(5000000000)\n",
    "    rslt = %timeit -o num in d_set\n",
    "    setin.append(rslt.average)"
   ]
  },
  {
   "cell_type": "code",
   "execution_count": null,
   "metadata": {},
   "outputs": [],
   "source": [
    "print(\"%e\"%np.mean(setin))"
   ]
  },
  {
   "cell_type": "code",
   "execution_count": null,
   "metadata": {},
   "outputs": [],
   "source": []
  }
 ],
 "metadata": {
  "anaconda-cloud": {},
  "celltoolbar": "Create Assignment",
  "kernelspec": {
   "display_name": "Python 3",
   "language": "python",
   "name": "python3"
  },
  "language_info": {
   "codemirror_mode": {
    "name": "ipython",
    "version": 3
   },
   "file_extension": ".py",
   "mimetype": "text/x-python",
   "name": "python",
   "nbconvert_exporter": "python",
   "pygments_lexer": "ipython3",
   "version": "3.5.2"
  }
 },
 "nbformat": 4,
 "nbformat_minor": 1
}
