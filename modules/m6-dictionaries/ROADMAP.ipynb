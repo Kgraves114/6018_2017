{
 "cells": [
  {
   "cell_type": "markdown",
   "metadata": {},
   "source": [
    "# Dictionaries\n",
    "\n",
    "## ClassPrep\n",
    "* [Dictionaries](ClassPrep/Dictionaries.ipynb)\n",
    "\n",
    "## Resources\n",
    "* [Code Blocks in Python](Resources/1-CodeBlocksInPython.ipynb)\n",
    "* [True and False in Python](Resources/2-TrueAndFalse.ipynb)\n",
    "* [If/Else](Resources/3-IfElse.ipynb)\n",
    "* [For Loops](Resources/4-ForLoopsInPython.ipynb)\n",
    "* [While loops](Resources/5-WhileLoops.ipynb)\n",
    "\n",
    "## InClass\n",
    "\n",
    "## Homework\n",
    "* [Module 3 HW](HW/m3_hw_dictionaries.ipynb)\n"
   ]
  },
  {
   "cell_type": "code",
   "execution_count": null,
   "metadata": {},
   "outputs": [],
   "source": []
  }
 ],
 "metadata": {
  "kernelspec": {
   "display_name": "Python 3",
   "language": "python",
   "name": "python3"
  },
  "language_info": {
   "codemirror_mode": {
    "name": "ipython",
    "version": 3
   },
   "file_extension": ".py",
   "mimetype": "text/x-python",
   "name": "python",
   "nbconvert_exporter": "python",
   "pygments_lexer": "ipython3",
   "version": "3.5.2"
  }
 },
 "nbformat": 4,
 "nbformat_minor": 1
}
